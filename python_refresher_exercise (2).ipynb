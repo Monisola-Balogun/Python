{
 "cells": [
  {
   "cell_type": "markdown",
   "metadata": {
    "vscode": {
     "languageId": "plaintext"
    }
   },
   "source": [
    "# Python Refresher Exercise  \n",
    "\n",
    "This exercise is designed to help you revisit and test your understanding of core Python concepts covered in class. You will work on tasks covering variables, data types, loops, functions, conditionals, file handling and object-oriented programming. These fundamentals are crucial for your success in more advanced topics like data analysis, machine learning, and building applications.  \n",
    "\n",
    "If you find this exercise particularly challenging, it’s a sign that you should revisit the learning materials and class recordings. Use this as an opportunity to strengthen your foundation before moving forward in the course.  \n",
    "\n",
    "Your goal is to demonstrate proficiency in Python basics by solving the provided problems effectively and writing clean, functional code.  \n",
    "\n",
    "## Instructions  \n",
    "\n",
    "- Answer the questions or complete the tasks outlined in **bold** below.  \n",
    "- Use the specific method described if applicable.  \n",
    "- **Important:** Do not run your code in the same cell where the answer is provided. Create a new cell below/above and write your code there.  \n",
    "- Running code in the same cell as the answer will overwrite the provided hints and answers. Ensure you follow this structure to retain all information.  \n",
    "\n",
    "Good luck!  \n"
   ]
  },
  {
   "cell_type": "markdown",
   "metadata": {},
   "source": [
    "**1. Task:** What is 7 to the power of 4?"
   ]
  },
  {
   "cell_type": "code",
   "execution_count": 1,
   "metadata": {},
   "outputs": [
    {
     "name": "stdout",
     "output_type": "stream",
     "text": [
      "2401\n"
     ]
    }
   ],
   "source": [
    "# Write your answer here\n",
    "result=7**4\n",
    "print(result)"
   ]
  },
  {
   "cell_type": "markdown",
   "metadata": {},
   "source": [
    "**2.Task** Split this string:\n",
    "\n",
    "    s = \"Hi there Daveworld!\"\n",
    "    \n",
    "**into a list.**"
   ]
  },
  {
   "cell_type": "code",
   "execution_count": 2,
   "metadata": {},
   "outputs": [
    {
     "name": "stdout",
     "output_type": "stream",
     "text": [
      "['Hi', 'there', 'Daveworld!']\n"
     ]
    }
   ],
   "source": [
    "# Write your answer here\n",
    "s = 'Hi there Daveworld!'\n",
    "words= s.split()\n",
    "print(words)"
   ]
  },
  {
   "cell_type": "markdown",
   "metadata": {},
   "source": [
    "**3.Task** Given this nested list, use indexing to grab the word \"hello\""
   ]
  },
  {
   "cell_type": "code",
   "execution_count": 3,
   "metadata": {},
   "outputs": [
    {
     "name": "stdout",
     "output_type": "stream",
     "text": [
      "hello\n"
     ]
    }
   ],
   "source": [
    "# Write your answer here\n",
    "lst = [1,2,[3,4],[5,[100,200,['hello']],23,11],1,7]\n",
    "chosen_word= lst[3][1][2][0]\n",
    "print (chosen_word)"
   ]
  },
  {
   "cell_type": "markdown",
   "metadata": {},
   "source": [
    "**4. Task** Given this nest dictionary grab the word \"hello\". Be prepared, this will be annoying/tricky try your best!"
   ]
  },
  {
   "cell_type": "code",
   "execution_count": 4,
   "metadata": {},
   "outputs": [
    {
     "name": "stdout",
     "output_type": "stream",
     "text": [
      "hello\n"
     ]
    }
   ],
   "source": [
    "# Write your answer here\n",
    "d = {'k1':[1,2,3,{'tricky':['oh','man','inception',{'target':[1,2,3,'hello']}]}]}\n",
    "picked = d['k1'][3]['tricky'][3]['target'][3]\n",
    "print(picked)"
   ]
  },
  {
   "cell_type": "markdown",
   "metadata": {},
   "source": [
    "**5. Task** What is the main difference between a tuple and a list?"
   ]
  },
  {
   "cell_type": "code",
   "execution_count": null,
   "metadata": {},
   "outputs": [],
   "source": [
    "# Write your answer here\n",
    "#The contents of a tuple can be modified after creation while that of a list cannot be modified"
   ]
  },
  {
   "cell_type": "markdown",
   "metadata": {},
   "source": [
    "**6. Task** Create a function that grabs the email website domain from a string in the form:\n",
    "\n",
    "    user@domain.com\n",
    "    \n",
    "**So for example, passing \"user@domain.com\" would return: domain.com**"
   ]
  },
  {
   "cell_type": "code",
   "execution_count": 1,
   "metadata": {},
   "outputs": [
    {
     "name": "stdout",
     "output_type": "stream",
     "text": [
      "domain.com\n"
     ]
    }
   ],
   "source": [
    "#write your answer here\n",
    "import re\n",
    "\n",
    "def extract_domain(email):\n",
    "    return re.search('@(.*)', email).group(1)\n",
    "\n",
    "email = \"user@domain.com\"\n",
    "domain = extract_domain(email)\n",
    "print(domain)"
   ]
  },
  {
   "cell_type": "code",
   "execution_count": 5,
   "metadata": {},
   "outputs": [],
   "source": [
    "def domainGet(email):\n",
    "    try:\n",
    "        return email.split('@')[1]\n",
    "    except IndexError:\n",
    "        return None"
   ]
  },
  {
   "cell_type": "code",
   "execution_count": 6,
   "metadata": {},
   "outputs": [
    {
     "name": "stdout",
     "output_type": "stream",
     "text": [
      "domain.com\n"
     ]
    }
   ],
   "source": [
    "print(domainGet(\"user@domain.com\"))"
   ]
  },
  {
   "cell_type": "markdown",
   "metadata": {},
   "source": [
    "**7.Task** Create a basic function that returns True if the word 'appliso' is contained in the input string. Don't worry about edge cases like a punctuation being attached to the word 'appliso', but do account for capitalization.\n",
    "\n",
    "    string = \"Appliso is a tech company aiming to change the world!\""
   ]
  },
  {
   "cell_type": "code",
   "execution_count": 7,
   "metadata": {},
   "outputs": [],
   "source": [
    "# write your answer here\n",
    "def contains_appliso(string):\n",
    "    return 'appliso' in string.lower()"
   ]
  },
  {
   "cell_type": "code",
   "execution_count": 8,
   "metadata": {},
   "outputs": [
    {
     "name": "stdout",
     "output_type": "stream",
     "text": [
      "True\n"
     ]
    }
   ],
   "source": [
    "print(contains_appliso(\"Appliso is a tech company aiming to change the world!\"))"
   ]
  },
  {
   "cell_type": "code",
   "execution_count": 9,
   "metadata": {},
   "outputs": [],
   "source": [
    "def findAppliso(string):\n",
    "    return 'appliso' in string.lower()"
   ]
  },
  {
   "cell_type": "code",
   "execution_count": 10,
   "metadata": {},
   "outputs": [
    {
     "data": {
      "text/plain": [
       "True"
      ]
     },
     "execution_count": 10,
     "metadata": {},
     "output_type": "execute_result"
    }
   ],
   "source": [
    "# Use the following code to test your implementation\n",
    "findAppliso('Appliso is a tech company aiming to change the world!?')"
   ]
  },
  {
   "cell_type": "markdown",
   "metadata": {},
   "source": [
    "**8. Task** Create a function that counts the number of times the word \"dog\" occurs in a string. Again ignore edge cases."
   ]
  },
  {
   "cell_type": "code",
   "execution_count": 13,
   "metadata": {},
   "outputs": [],
   "source": [
    "# write your answer here\n",
    "def countDog(string):\n",
    "    return string.lower().count('dog')\n"
   ]
  },
  {
   "cell_type": "code",
   "execution_count": 14,
   "metadata": {},
   "outputs": [
    {
     "name": "stdout",
     "output_type": "stream",
     "text": [
      "2\n"
     ]
    }
   ],
   "source": [
    "# Use the following code to test your implementation\n",
    "print(countDog('This dog runs faster than the other dog dude!'))"
   ]
  },
  {
   "cell_type": "markdown",
   "metadata": {},
   "source": [
    "**9. Task:** Create a class called Person with attributes name and age. Add a method called introduce that prints, \"Hi, I am [name] and I am [age] years old.\" Instantiate an object and call the introduce method."
   ]
  },
  {
   "cell_type": "code",
   "execution_count": 16,
   "metadata": {},
   "outputs": [],
   "source": [
    "# write your answer here\n",
    "class Person:\n",
    "    def __init__(self, name, age):\n",
    "        self.name = name\n",
    "        self.age = age\n",
    "\n",
    "    def introduce(self):\n",
    "        print(f\"Hi, I am {self.name} and I am {self.age} years old.\")"
   ]
  },
  {
   "cell_type": "code",
   "execution_count": 18,
   "metadata": {},
   "outputs": [
    {
     "name": "stdout",
     "output_type": "stream",
     "text": [
      "Hi, I am John and I am 25 years old.\n"
     ]
    }
   ],
   "source": [
    "person = Person(\"John\", 25)\n",
    "person.introduce()  "
   ]
  },
  {
   "cell_type": "markdown",
   "metadata": {},
   "source": [
    "**10.Task:** Write a Python program to create a text file named sample.txt, write \"Hello, Python!\" to it, and then read the content."
   ]
  },
  {
   "cell_type": "code",
   "execution_count": 19,
   "metadata": {},
   "outputs": [],
   "source": [
    "# write your answer here\n",
    "with open('sample.txt', 'w') as file:\n",
    "    file.write('Hello, Python!')\n",
    "\n",
    "# Read the file content\n",
    "with open('sample.txt', 'r') as file:\n",
    "    content = file.read()\n"
   ]
  },
  {
   "cell_type": "code",
   "execution_count": 20,
   "metadata": {},
   "outputs": [
    {
     "name": "stdout",
     "output_type": "stream",
     "text": [
      "Hello, Python!\n"
     ]
    }
   ],
   "source": [
    "print(content)"
   ]
  },
  {
   "cell_type": "markdown",
   "metadata": {},
   "source": [
    "**11. Task:** Use a list comprehension to create a list of squares for all numbers from 1 to 10.\n",
    "\n"
   ]
  },
  {
   "cell_type": "code",
   "execution_count": 21,
   "metadata": {},
   "outputs": [
    {
     "name": "stdout",
     "output_type": "stream",
     "text": [
      "[1, 4, 9, 16, 25, 36, 49, 64, 81, 100]\n"
     ]
    }
   ],
   "source": [
    "# List comprehension for squares\n",
    "squares = [x**2 for x in range(1, 11)]\n",
    "print(squares)\n"
   ]
  },
  {
   "cell_type": "markdown",
   "metadata": {},
   "source": [
    "**12. Task:** Import the math library and use it to calculate the square root of 16.\n",
    "\n"
   ]
  },
  {
   "cell_type": "code",
   "execution_count": 24,
   "metadata": {},
   "outputs": [],
   "source": [
    "# write your answer here\n",
    "import math\n",
    "\n",
    "result = math.sqrt(16)"
   ]
  },
  {
   "cell_type": "code",
   "execution_count": 25,
   "metadata": {},
   "outputs": [
    {
     "name": "stdout",
     "output_type": "stream",
     "text": [
      "The square root of 16 is 4.0\n"
     ]
    }
   ],
   "source": [
    "print('The square root of 16 is',(result)) "
   ]
  },
  {
   "cell_type": "markdown",
   "metadata": {},
   "source": [
    "**13. Task:** Write a Python program that performs the following:  \n",
    "1. Accepts two numbers from the user.  \n",
    "2. Tries to divide the first number by the second.  \n",
    "3. Handles `ZeroDivisionError` if the second number is zero.  \n",
    "4. Handles `ValueError` if the input is not a number.  \n",
    "5. Prints a message when all operations are complete, whether an exception occurred or not.  \n"
   ]
  },
  {
   "cell_type": "code",
   "execution_count": 30,
   "metadata": {},
   "outputs": [
    {
     "name": "stdout",
     "output_type": "stream",
     "text": [
      "Error: Invalid input! Please enter a number.\n",
      "Operation completed.\n"
     ]
    }
   ],
   "source": [
    "# write your answer heredef divide_numbers():\n",
    "try:\n",
    "        # Get input from user\n",
    "        num1 = float(input(\"Enter the first number: \"))\n",
    "        num2 = float(input(\"Enter the second number: \"))\n",
    "        \n",
    "        # Perform division\n",
    "        result = num1 / num2\n",
    "        print(f\"Result: {result}\")\n",
    "    \n",
    "except ZeroDivisionError:\n",
    "        print(\"Error: Cannot divide by zero.\")\n",
    "    \n",
    "except ValueError:\n",
    "        print(\"Error: Invalid input! Please enter a number.\")\n",
    "    \n",
    "finally:\n",
    "        print(\"Operation completed.\")\n"
   ]
  },
  {
   "cell_type": "markdown",
   "metadata": {},
   "source": [
    "**14 Task:** Use lambda expressions and the filter() function to filter out words from a list that don't start with the letter 's'. For example:\n",
    "\n",
    "    seq = ['soup','dog','salad','cat','great']\n",
    "\n",
    "**should be filtered down to:**\n",
    "\n",
    "    ['soup','salad']"
   ]
  },
  {
   "cell_type": "code",
   "execution_count": 32,
   "metadata": {},
   "outputs": [],
   "source": [
    "seq = ['soup','dog','salad','cat','great']\n",
    "filtered_words = list(filter(lambda word: word.startswith('s'), seq))"
   ]
  },
  {
   "cell_type": "code",
   "execution_count": 33,
   "metadata": {},
   "outputs": [
    {
     "name": "stdout",
     "output_type": "stream",
     "text": [
      "['soup', 'salad']\n"
     ]
    }
   ],
   "source": [
    "print(filtered_words)"
   ]
  },
  {
   "cell_type": "markdown",
   "metadata": {},
   "source": [
    "### Final Problem\n",
    "\n",
    "**15 Task:** You are given a list of students' scores and a cut-off mark. Write a Python program to determine:  \n",
    "1. The number of students who passed the cut-off mark.  \n",
    "2. The number of students who did not pass the cut-off mark.  \n",
    "3. Print the percentage of students who passed and failed.  \n",
    "\n",
    "**Details:**  \n",
    "- You will be provided a list of scores (e.g., `[45, 78, 88, 56, 90, 34, 65, 77]`).  \n",
    "- The cut-off mark is 50.  \n",
    "\n",
    "Write your program to calculate the above and output the results in a clear format.\n",
    "\n",
    "---\n",
    "\n",
    "### **Expected Output Example:**  \n",
    "For the given scores `[45, 78, 88, 56, 90, 34, 65, 77]` and cut-off mark of 50:  \n",
    "\n",
    "Number of students who passed: 5\n",
    "Number of students who failed: 3\n",
    "Percentage of students who passed: 62.5%\n",
    "Percentage of students who failed: 37.5%\n",
    "\n",
    "### **Hint:**  \n",
    "Use a loop or list comprehension to filter the scores based on the cut-off mark. You can calculate percentages using the formula:  "
   ]
  },
  {
   "cell_type": "code",
   "execution_count": null,
   "metadata": {},
   "outputs": [
    {
     "name": "stdout",
     "output_type": "stream",
     "text": [
      "Number of students who passed: 6\n",
      "Number of students who failed: 2\n",
      "Percentage of students who passed: 75.00%\n",
      "Percentage of students who failed: 25.00%\n"
     ]
    }
   ],
   "source": [
    "# List of student scores\n",
    "scores = [45, 78, 88, 56, 90, 34, 65, 77]\n",
    "\n",
    "# Cut-off mark\n",
    "cut_off = 50\n",
    "\n",
    "\n",
    "\n",
    "# Print the results\n",
    "print(f\"Number of students who passed: {num_passed}\")\n",
    "print(f\"Number of students who failed: {num_failed}\")\n",
    "print(f\"Percentage of students who passed: {percent_passed:.2f}%\")\n",
    "print(f\"Percentage of students who failed: {percent_failed:.2f}%\")"
   ]
  },
  {
   "cell_type": "code",
   "execution_count": 55,
   "metadata": {},
   "outputs": [],
   "source": [
    "scores = [45, 78, 88, 56, 90, 34, 65, 77]\n",
    "cutoff = 50\n"
   ]
  },
  {
   "cell_type": "code",
   "execution_count": 59,
   "metadata": {},
   "outputs": [],
   "source": [
    "# write your answer here\n",
    "def student_scores(scores, cutoff):\n",
    "\n",
    "# Count passes and fails\n",
    "  passed = [score for score in scores if score >= cutoff]\n",
    "failed = [score for score in scores if score < cutoff]\n",
    "passed = [score for score in scores if score >= cutoff]"
   ]
  },
  {
   "cell_type": "code",
   "execution_count": 61,
   "metadata": {},
   "outputs": [],
   "source": [
    "# Calculate numbers\n",
    "num_passed = len(passed)\n",
    "num_failed = len(failed)\n",
    "total_students = len(scores)\n",
    "num_passed = len(passed)\n",
    "    \n",
    "# Calculate percentages\n",
    "percent_passed = (num_passed / total_students) * 100\n",
    "percent_failed = (num_failed / total_students) * 100"
   ]
  },
  {
   "cell_type": "code",
   "execution_count": 62,
   "metadata": {},
   "outputs": [
    {
     "name": "stdout",
     "output_type": "stream",
     "text": [
      "Number of students who passed: 6\n",
      "Number of students who failed: 2\n",
      "Percentage of students who passed: 75.00%\n",
      "Percentage of students who failed: 25.00%\n"
     ]
    }
   ],
   "source": [
    "print(f\"Number of students who passed: {num_passed}\")\n",
    "print(f\"Number of students who failed: {num_failed}\")\n",
    "print(f\"Percentage of students who passed: {percent_passed:.2f}%\")\n",
    "print(f\"Percentage of students who failed: {percent_failed:.2f}%\")"
   ]
  },
  {
   "cell_type": "markdown",
   "metadata": {},
   "source": [
    "# Great job!"
   ]
  }
 ],
 "metadata": {
  "kernelspec": {
   "display_name": "base",
   "language": "python",
   "name": "python3"
  },
  "language_info": {
   "codemirror_mode": {
    "name": "ipython",
    "version": 3
   },
   "file_extension": ".py",
   "mimetype": "text/x-python",
   "name": "python",
   "nbconvert_exporter": "python",
   "pygments_lexer": "ipython3",
   "version": "3.12.7"
  }
 },
 "nbformat": 4,
 "nbformat_minor": 2
}
